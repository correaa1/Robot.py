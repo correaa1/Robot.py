{
 "cells": [
  {
   "cell_type": "code",
   "execution_count": 47,
   "metadata": {},
   "outputs": [
    {
     "ename": "ModuleNotFoundError",
     "evalue": "No module named 'pandas'",
     "output_type": "error",
     "traceback": [
      "\u001b[1;31m---------------------------------------------------------------------------\u001b[0m",
      "\u001b[1;31mModuleNotFoundError\u001b[0m                       Traceback (most recent call last)",
      "Cell \u001b[1;32mIn[47], line 1\u001b[0m\n\u001b[1;32m----> 1\u001b[0m \u001b[39mimport\u001b[39;00m \u001b[39mpandas\u001b[39;00m \u001b[39mas\u001b[39;00m \u001b[39mpd\u001b[39;00m\n",
      "\u001b[1;31mModuleNotFoundError\u001b[0m: No module named 'pandas'"
     ]
    }
   ],
   "source": [
    "import pandas as pd"
   ]
  },
  {
   "cell_type": "code",
   "execution_count": 97,
   "metadata": {},
   "outputs": [
    {
     "ename": "ModuleNotFoundError",
     "evalue": "No module named 'pandas'",
     "output_type": "error",
     "traceback": [
      "\u001b[1;31m---------------------------------------------------------------------------\u001b[0m",
      "\u001b[1;31mModuleNotFoundError\u001b[0m                       Traceback (most recent call last)",
      "Cell \u001b[1;32mIn[97], line 4\u001b[0m\n\u001b[0;32m      2\u001b[0m \u001b[39mimport\u001b[39;00m \u001b[39mtime\u001b[39;00m\n\u001b[0;32m      3\u001b[0m \u001b[39mimport\u001b[39;00m \u001b[39mpyperclip\u001b[39;00m\n\u001b[1;32m----> 4\u001b[0m \u001b[39mimport\u001b[39;00m \u001b[39mpandas\u001b[39;00m \n\u001b[0;32m      6\u001b[0m link \u001b[39m=\u001b[39m \u001b[39m\"\u001b[39m\u001b[39mhttps://drive.google.com/drive/folders/14oLE59U1RqyRqlBbKpsyymW-mitvbtoh\u001b[39m\u001b[39m\"\u001b[39m\n\u001b[0;32m      7\u001b[0m pyautogui\u001b[39m.\u001b[39mPAUSE \u001b[39m=\u001b[39m \u001b[39m2\u001b[39m\n",
      "\u001b[1;31mModuleNotFoundError\u001b[0m: No module named 'pandas'"
     ]
    }
   ],
   "source": [
    "import pyautogui\n",
    "import time\n",
    "import pyperclip\n",
    "import pandas \n",
    "\n",
    "link = \"https://drive.google.com/drive/folders/14oLE59U1RqyRqlBbKpsyymW-mitvbtoh\"\n",
    "pyautogui.PAUSE = 2\n",
    "pyautogui.press(\"winleft\")\n",
    "pyautogui.write(\"chrome\")\n",
    "pyautogui.press(\"enter\")\n",
    "pyautogui.click(x=1222, y=486)\n",
    "pyautogui.hotkey(\"ctrl\", \"t\")\n",
    "pyperclip.copy(link)\n",
    "pyautogui.hotkey(\"ctrl\", \"v\")\n",
    "pyautogui.press(\"enter\")\n",
    "time.sleep(3)\n",
    "pyautogui.click(x=580, y=370)\n",
    "pyautogui.click(x=1709, y=195)\n",
    "pyautogui.click(x=1487, y=618)\n",
    "pyautogui.press(\"enter\")\n",
    "time.sleep(3)\n",
    "\n",
    "tabela = pandas.read_excel(r\"C:\\Users\\Bruno\\downloads\\Vendas - Dez.xlsx\")\n",
    "print(tabela)\n",
    "faturamento = tabela[\"Valor Final\"].sum()\n",
    "\n",
    "print(faturamento)\n",
    "quantidade = tabela[\"Quantidade\"].sum()\n",
    "print(quantidade)\n",
    "autogui.hotkey(\"ctrl\", \"t\")\n",
    "\n",
    "pyperclip.copy(\"https://mail.google.com/mail/u/0/#inbox\")\n",
    "pyautogui.hotkey(\"ctrl\", \"v\")\n",
    "pyautogui.press(\"enter\")\n",
    "time.sleep(5)\n",
    "\n",
    "pyautogui.click(x=240, y=415)\n",
    "\n",
    "pyautogui.write(\"pythonimpressionador@gmail.com\")\n",
    "pyautogui.press(\"tab\") \n",
    "\n",
    "pyautogui.press(\"tab\") \n",
    "pyperclip.copy(\"Relatório de Vendas\")\n",
    "pyautogui.hotkey(\"ctrl\", \"v\")\n",
    "\n",
    "pyautogui.press(\"tab\") \n",
    "\n",
    "texto = f\"\"\"\n",
    "Prezados,\n",
    "\n",
    "Segue relatório de vendas.\n",
    "Faturamento: R${faturamento:,.2f}\n",
    "Quantidade de produtos vendidos: {quantidade:,}\n",
    "\n",
    "Qualquer dúvida estou à disposição.\n",
    "Att.,\n",
    "Lira do Python\n",
    "\"\"\"\n",
    "\n",
    "\n",
    "pyperclip.copy(texto)\n",
    "pyautogui.hotkey(\"ctrl\", \"v\")\n",
    "\n",
    "pyautogui.hotkey(\"ctrl\", \"enter\")\n"
   ]
  },
  {
   "cell_type": "markdown",
   "metadata": {},
   "source": []
  },
  {
   "cell_type": "markdown",
   "metadata": {},
   "source": []
  }
 ],
 "metadata": {
  "kernelspec": {
   "display_name": "Python 3",
   "language": "python",
   "name": "python3"
  },
  "language_info": {
   "codemirror_mode": {
    "name": "ipython",
    "version": 3
   },
   "file_extension": ".py",
   "mimetype": "text/x-python",
   "name": "python",
   "nbconvert_exporter": "python",
   "pygments_lexer": "ipython3",
   "version": "3.11.1"
  },
  "orig_nbformat": 4,
  "vscode": {
   "interpreter": {
    "hash": "a896d4e6b874aa967ce62af9b3efe41cdc7daa6273c08b12ed1a7b1ca9b99636"
   }
  }
 },
 "nbformat": 4,
 "nbformat_minor": 2
}
